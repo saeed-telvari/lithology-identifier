{
 "cells": [
  {
   "cell_type": "code",
   "execution_count": 1,
   "id": "b4f8fd7f-15e6-4e1f-8729-a314f4ef9bb9",
   "metadata": {},
   "outputs": [],
   "source": [
    "import pandas as pd\n",
    "import numpy as np\n",
    "from sklearn import svm\n",
    "import sklearn"
   ]
  },
  {
   "cell_type": "code",
   "execution_count": 2,
   "id": "9ea737a7-7c84-47d2-9ca9-5e7ffdfa3f82",
   "metadata": {},
   "outputs": [],
   "source": [
    "# Importing training dataset\n",
    "train_dataset = pd.read_excel(\"Data//log.xlsx\", nrows = 1000)\n",
    "x_train = np.array(train_dataset[['GR','SP','Rt','Rxo','DEN','SONIC','CNL','DIP']])\n",
    "y_train = np.array(train_dataset[['MUDLOG']])\n",
    "y_train = y_train.reshape(1000)"
   ]
  },
  {
   "cell_type": "code",
   "execution_count": 3,
   "id": "50211264-d8e7-4eec-bbe7-ea80311dfb01",
   "metadata": {},
   "outputs": [],
   "source": [
    "# Importing test dataset\n",
    "test_dataset = pd.read_excel(\"Data//log.xlsx\", skiprows = 1000)\n",
    "x_test = np.array(train_dataset[['GR','SP','Rt','Rxo','DEN','SONIC','CNL','DIP']])\n",
    "y_test = np.array(train_dataset[['MUDLOG']])\n",
    "y_test = y_test.reshape(1000)"
   ]
  },
  {
   "cell_type": "code",
   "execution_count": 4,
   "id": "fa223131-bf64-47c8-93bb-fbc8602ea100",
   "metadata": {},
   "outputs": [
    {
     "data": {
      "text/plain": [
       "SVC()"
      ]
     },
     "execution_count": 4,
     "metadata": {},
     "output_type": "execute_result"
    }
   ],
   "source": [
    "# Taining the model\n",
    "clf =svm.SVC()\n",
    "clf.fit(x_train, y_train)"
   ]
  },
  {
   "cell_type": "code",
   "execution_count": 5,
   "id": "c96d3cc8-fc26-42c4-9d6b-07f4c80f1cbf",
   "metadata": {},
   "outputs": [],
   "source": [
    "# Predictions\n",
    "y_pred = np.zeros([len(y_test), 1])\n",
    "for i in range(len(x_test)):\n",
    "    y_pred[i] = clf.predict(x_test[i].reshape(-1,8))"
   ]
  },
  {
   "cell_type": "code",
   "execution_count": 6,
   "id": "cfee2cd0-84f4-4390-aafd-2a77b138e5f4",
   "metadata": {},
   "outputs": [
    {
     "name": "stdout",
     "output_type": "stream",
     "text": [
      "Accuracy of the model is : 82.6%\n"
     ]
    }
   ],
   "source": [
    "# Accuracy :\n",
    "accuracy = sklearn.metrics.accuracy_score(y_test, y_pred, normalize=True, sample_weight=None)\n",
    "print(f'Accuracy of the model is : {accuracy*100}%')"
   ]
  }
 ],
 "metadata": {
  "kernelspec": {
   "display_name": "Python 3 (ipykernel)",
   "language": "python",
   "name": "python3"
  },
  "language_info": {
   "codemirror_mode": {
    "name": "ipython",
    "version": 3
   },
   "file_extension": ".py",
   "mimetype": "text/x-python",
   "name": "python",
   "nbconvert_exporter": "python",
   "pygments_lexer": "ipython3",
   "version": "3.7.11"
  }
 },
 "nbformat": 4,
 "nbformat_minor": 5
}
