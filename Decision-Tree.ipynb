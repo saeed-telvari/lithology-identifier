{
 "cells": [
  {
   "cell_type": "code",
   "execution_count": 1,
   "id": "dd7cd36e-fd91-4c78-9d33-e75030f957a7",
   "metadata": {},
   "outputs": [
    {
     "name": "stderr",
     "output_type": "stream",
     "text": [
      "2021-09-17 21:04:57.524752: W tensorflow/stream_executor/platform/default/dso_loader.cc:64] Could not load dynamic library 'libcudart.so.11.0'; dlerror: libcudart.so.11.0: cannot open shared object file: No such file or directory\n",
      "2021-09-17 21:04:57.524831: I tensorflow/stream_executor/cuda/cudart_stub.cc:29] Ignore above cudart dlerror if you do not have a GPU set up on your machine.\n"
     ]
    }
   ],
   "source": [
    "import tensorflow_decision_forests as tfdf\n",
    "import pandas as pd\n",
    "import numpy as np"
   ]
  },
  {
   "cell_type": "code",
   "execution_count": 2,
   "id": "6c97ae4b-b6db-4173-8825-8481d967e049",
   "metadata": {},
   "outputs": [],
   "source": [
    "# Importing training dataset\n",
    "train_dataset = pd.read_excel(\"Data//log.xlsx\", nrows = 1000)"
   ]
  },
  {
   "cell_type": "code",
   "execution_count": 3,
   "id": "8b146b1d-9c69-4450-91ba-7ca079b69076",
   "metadata": {},
   "outputs": [
    {
     "name": "stderr",
     "output_type": "stream",
     "text": [
      "/home/sbonapart/anaconda3/envs/py38/lib/python3.8/site-packages/tensorflow_decision_forests/keras/core.py:1224: FutureWarning: In a future version of pandas all arguments of DataFrame.drop except for the argument 'labels' will be keyword-only\n",
      "  (dict(dataframe.drop(label, 1)), dataframe[label].values))\n",
      "2021-09-17 21:05:20.799237: W tensorflow/stream_executor/platform/default/dso_loader.cc:64] Could not load dynamic library 'libcuda.so.1'; dlerror: libcuda.so.1: cannot open shared object file: No such file or directory\n",
      "2021-09-17 21:05:20.800198: W tensorflow/stream_executor/cuda/cuda_driver.cc:269] failed call to cuInit: UNKNOWN ERROR (303)\n",
      "2021-09-17 21:05:20.800279: I tensorflow/stream_executor/cuda/cuda_diagnostics.cc:156] kernel driver does not appear to be running on this host (Saeed): /proc/driver/nvidia/version does not exist\n",
      "2021-09-17 21:05:20.801727: I tensorflow/core/platform/cpu_feature_guard.cc:142] This TensorFlow binary is optimized with oneAPI Deep Neural Network Library (oneDNN) to use the following CPU instructions in performance-critical operations:  AVX2 FMA\n",
      "To enable them in other operations, rebuild TensorFlow with the appropriate compiler flags.\n"
     ]
    }
   ],
   "source": [
    "# Converting Dataframe into tensorflow dataset\n",
    "# label=\"MUDLOG\" is the label column and it treats other columns as inputs\n",
    "train_dataset = tfdf.keras.pd_dataframe_to_tf_dataset(train_dataset, label=\"MUDLOG\")"
   ]
  },
  {
   "cell_type": "code",
   "execution_count": 4,
   "id": "85aed7a9-aa0a-47aa-8091-2e13c5240525",
   "metadata": {
    "scrolled": true,
    "tags": []
   },
   "outputs": [],
   "source": [
    "# Creating the model\n",
    "model = tfdf.keras.RandomForestModel()"
   ]
  },
  {
   "cell_type": "code",
   "execution_count": 6,
   "id": "62f6f2f5-170c-4cd5-9af8-eeb7eded38e9",
   "metadata": {
    "scrolled": true,
    "tags": []
   },
   "outputs": [
    {
     "name": "stdout",
     "output_type": "stream",
     "text": [
      "16/16 [==============================] - 4s 3ms/step\n"
     ]
    },
    {
     "name": "stderr",
     "output_type": "stream",
     "text": [
      "2021-09-17 21:05:31.152325: I tensorflow/compiler/mlir/mlir_graph_optimization_pass.cc:185] None of the MLIR Optimization Passes are enabled (registered 2)\n",
      "[INFO kernel.cc:746] Start Yggdrasil model training\n",
      "[INFO kernel.cc:747] Collect training examples\n",
      "[INFO kernel.cc:392] Number of batches: 16\n",
      "[INFO kernel.cc:393] Number of examples: 1000\n",
      "[INFO kernel.cc:769] Dataset:\n",
      "Number of records: 1000\n",
      "Number of columns: 11\n",
      "\n",
      "Number of columns by type:\n",
      "\tNUMERICAL: 10 (90.9091%)\n",
      "\tCATEGORICAL: 1 (9.09091%)\n",
      "\n",
      "Columns:\n",
      "\n",
      "NUMERICAL: 10 (90.9091%)\n",
      "\t0: \"AZIM\" NUMERICAL mean:289.998 min:275 max:305 sd:8.61706\n",
      "\t1: \"CNL\" NUMERICAL mean:26.6871 min:3.2 max:39.9 sd:14.1699\n",
      "\t2: \"DEN\" NUMERICAL mean:2.339 min:1.9 max:2.8 sd:0.158553\n",
      "\t3: \"DEPTH\" NUMERICAL mean:5444.75 min:5195 max:5694.5 sd:144.336\n",
      "\t4: \"DIP\" NUMERICAL mean:7.9126 min:4 max:12 sd:2.32076\n",
      "\t5: \"GR\" NUMERICAL mean:74.5083 min:0 max:104.8 sd:33.026\n",
      "\t6: \"Rt\" NUMERICAL mean:792.714 min:1.1 max:28118.9 sd:2544.76\n",
      "\t7: \"Rxo\" NUMERICAL mean:12.693 min:2.2 max:80.9 sd:12.9602\n",
      "\t8: \"SONIC\" NUMERICAL mean:100.347 min:49.3 max:136.3 sd:29.2979\n",
      "\t9: \"SP\" NUMERICAL mean:10.4948 min:-27.2 max:193 sd:62.1089\n",
      "\n",
      "CATEGORICAL: 1 (9.09091%)\n",
      "\t10: \"__LABEL\" CATEGORICAL integerized vocab-size:3 no-ood-item\n",
      "\n",
      "Terminology:\n",
      "\tnas: Number of non-available (i.e. missing) values.\n",
      "\tood: Out of dictionary.\n",
      "\tmanually-defined: Attribute which type is manually defined by the user i.e. the type was not automatically inferred.\n",
      "\ttokenized: The attribute value is obtained through tokenization.\n",
      "\thas-dict: The attribute is attached to a string dictionary e.g. a categorical attribute stored as a string.\n",
      "\tvocab-size: Number of unique values.\n",
      "\n",
      "[INFO kernel.cc:772] Configure learner\n",
      "[INFO kernel.cc:797] Training config:\n",
      "learner: \"RANDOM_FOREST\"\n",
      "features: \"AZIM\"\n",
      "features: \"CNL\"\n",
      "features: \"DEN\"\n",
      "features: \"DEPTH\"\n",
      "features: \"DIP\"\n",
      "features: \"GR\"\n",
      "features: \"Rt\"\n",
      "features: \"Rxo\"\n",
      "features: \"SONIC\"\n",
      "features: \"SP\"\n",
      "label: \"__LABEL\"\n",
      "task: CLASSIFICATION\n",
      "[yggdrasil_decision_forests.model.random_forest.proto.random_forest_config] {\n",
      "  num_trees: 300\n",
      "  decision_tree {\n",
      "    max_depth: 16\n",
      "    min_examples: 5\n",
      "    in_split_min_examples_check: true\n",
      "    missing_value_policy: GLOBAL_IMPUTATION\n",
      "    allow_na_conditions: false\n",
      "    categorical_set_greedy_forward {\n",
      "      sampling: 0.1\n",
      "      max_num_items: -1\n",
      "      min_item_frequency: 1\n",
      "    }\n",
      "    growing_strategy_local {\n",
      "    }\n",
      "    categorical {\n",
      "      cart {\n",
      "      }\n",
      "    }\n",
      "    num_candidate_attributes_ratio: -1\n",
      "    axis_aligned_split {\n",
      "    }\n",
      "    internal {\n",
      "      sorting_strategy: PRESORTED\n",
      "    }\n",
      "  }\n",
      "  winner_take_all_inference: true\n",
      "  compute_oob_performances: true\n",
      "  compute_oob_variable_importances: false\n",
      "  adapt_bootstrap_size_ratio_for_maximum_training_duration: false\n",
      "}\n",
      "\n",
      "[INFO kernel.cc:800] Deployment config:\n",
      "num_threads: 6\n",
      "\n",
      "[INFO kernel.cc:837] Train model\n",
      "[INFO random_forest.cc:303] Training random forest on 1000 example(s) and 10 feature(s).\n",
      "[INFO random_forest.cc:578] Training of tree  1/300 (tree index:2) done accuracy:1 logloss:0\n",
      "[INFO random_forest.cc:578] Training of tree  11/300 (tree index:12) done accuracy:1 logloss:0.000289419\n",
      "[INFO random_forest.cc:578] Training of tree  21/300 (tree index:22) done accuracy:1 logloss:0.00314803\n",
      "[INFO random_forest.cc:578] Training of tree  31/300 (tree index:33) done accuracy:1 logloss:0.00180325\n",
      "[INFO random_forest.cc:578] Training of tree  41/300 (tree index:41) done accuracy:1 logloss:0.00152322\n",
      "[INFO random_forest.cc:578] Training of tree  51/300 (tree index:53) done accuracy:1 logloss:0.00178339\n",
      "[INFO random_forest.cc:578] Training of tree  61/300 (tree index:60) done accuracy:1 logloss:0.00168754\n",
      "[INFO random_forest.cc:578] Training of tree  71/300 (tree index:71) done accuracy:1 logloss:0.00174123\n",
      "[INFO random_forest.cc:578] Training of tree  81/300 (tree index:80) done accuracy:1 logloss:0.00172787\n",
      "[INFO random_forest.cc:578] Training of tree  91/300 (tree index:93) done accuracy:1 logloss:0.00197371\n",
      "[INFO random_forest.cc:578] Training of tree  101/300 (tree index:85) done accuracy:0.999 logloss:0.0021893\n",
      "[INFO random_forest.cc:578] Training of tree  111/300 (tree index:110) done accuracy:0.999 logloss:0.00230321\n",
      "[INFO random_forest.cc:578] Training of tree  121/300 (tree index:121) done accuracy:0.999 logloss:0.00212979\n",
      "[INFO random_forest.cc:578] Training of tree  131/300 (tree index:130) done accuracy:0.999 logloss:0.00197628\n",
      "[INFO random_forest.cc:578] Training of tree  142/300 (tree index:141) done accuracy:1 logloss:0.00190115\n",
      "[INFO random_forest.cc:578] Training of tree  152/300 (tree index:152) done accuracy:1 logloss:0.00204099\n",
      "[INFO random_forest.cc:578] Training of tree  162/300 (tree index:161) done accuracy:1 logloss:0.0020119\n",
      "[INFO random_forest.cc:578] Training of tree  172/300 (tree index:172) done accuracy:1 logloss:0.00197691\n",
      "[INFO random_forest.cc:578] Training of tree  182/300 (tree index:182) done accuracy:1 logloss:0.00189971\n",
      "[INFO random_forest.cc:578] Training of tree  192/300 (tree index:191) done accuracy:1 logloss:0.00186763\n",
      "[INFO random_forest.cc:578] Training of tree  202/300 (tree index:201) done accuracy:1 logloss:0.00190531\n",
      "[INFO random_forest.cc:578] Training of tree  212/300 (tree index:212) done accuracy:0.999 logloss:0.00183868\n",
      "[INFO random_forest.cc:578] Training of tree  222/300 (tree index:221) done accuracy:0.999 logloss:0.00184039\n",
      "[INFO random_forest.cc:578] Training of tree  232/300 (tree index:231) done accuracy:0.999 logloss:0.00184203\n",
      "[INFO random_forest.cc:578] Training of tree  242/300 (tree index:241) done accuracy:0.999 logloss:0.00188296\n",
      "[INFO random_forest.cc:578] Training of tree  252/300 (tree index:251) done accuracy:0.999 logloss:0.00188435\n",
      "[INFO random_forest.cc:578] Training of tree  262/300 (tree index:261) done accuracy:0.999 logloss:0.00194969\n",
      "[INFO random_forest.cc:578] Training of tree  272/300 (tree index:271) done accuracy:0.999 logloss:0.00200937\n",
      "[INFO random_forest.cc:578] Training of tree  282/300 (tree index:281) done accuracy:0.999 logloss:0.00199107\n",
      "[INFO random_forest.cc:578] Training of tree  292/300 (tree index:290) done accuracy:0.999 logloss:0.00198037\n",
      "[INFO random_forest.cc:578] Training of tree  300/300 (tree index:299) done accuracy:0.999 logloss:0.00198185\n",
      "[INFO random_forest.cc:645] Final OOB metrics: accuracy:0.999 logloss:0.00198185\n",
      "[INFO kernel.cc:856] Export model in log directory: /tmp/tmpjcrj609y\n",
      "[INFO kernel.cc:864] Save model in resources\n",
      "[INFO kernel.cc:988] Loading model from path\n",
      "[INFO decision_forest.cc:590] Model loaded with 300 root(s), 1220 node(s), and 9 input feature(s).\n",
      "[INFO abstract_model.cc:993] Engine \"RandomForestOptPred\" built\n",
      "[INFO kernel.cc:848] Use fast generic engine\n"
     ]
    },
    {
     "data": {
      "text/plain": [
       "<keras.callbacks.History at 0x7f5de8378f10>"
      ]
     },
     "execution_count": 6,
     "metadata": {},
     "output_type": "execute_result"
    }
   ],
   "source": [
    "# Training he model\n",
    "model.fit(train_dataset)"
   ]
  },
  {
   "cell_type": "code",
   "execution_count": 7,
   "id": "298e3ea9-f5c9-421b-b2e7-9faf97f4f8df",
   "metadata": {},
   "outputs": [],
   "source": [
    "# Importing test dataset\n",
    "test_dataset = pd.read_excel(\"Data//log.xlsx\", skiprows = range(1,1001))"
   ]
  },
  {
   "cell_type": "code",
   "execution_count": 8,
   "id": "4b6df88b-8aed-40d2-b5e8-544d1dda87b7",
   "metadata": {},
   "outputs": [],
   "source": [
    "# Converting Dataframe into tensorflow dataset\n",
    "test_dataset = tfdf.keras.pd_dataframe_to_tf_dataset(test_dataset, label=\"MUDLOG\")"
   ]
  },
  {
   "cell_type": "code",
   "execution_count": 9,
   "id": "6f7a7cd5-d856-40fb-9d85-1629e2f6f597",
   "metadata": {},
   "outputs": [
    {
     "name": "stdout",
     "output_type": "stream",
     "text": [
      "8/8 [==============================] - 0s 4ms/step - loss: 0.0000e+00 - accuracy: 1.0000\n",
      "[0.0, 1.0]\n"
     ]
    }
   ],
   "source": [
    "# Evaluate the model\n",
    "model.compile(metrics=[\"accuracy\"])\n",
    "print(model.evaluate(test_dataset))\n",
    "# Spoiler alert: it has a 100% accuracy :))) I don't have more challenging datasets but it's good for practicing"
   ]
  },
  {
   "cell_type": "code",
   "execution_count": 11,
   "id": "36b12c5c-065e-412d-a83b-2950c2406106",
   "metadata": {},
   "outputs": [
    {
     "name": "stderr",
     "output_type": "stream",
     "text": [
      "WARNING:absl:Function `_wrapped_model` contains input name(s) AZIM, CNL, DEN, DEPTH, DIP, GR, Rt, Rxo, SONIC, SP with unsupported characters which will be renamed to azim, cnl, den, depth, dip, gr, rt, rxo, sonic, sp in the SavedModel.\n"
     ]
    },
    {
     "name": "stdout",
     "output_type": "stream",
     "text": [
      "INFO:tensorflow:Assets written to: Saved Models/Decision-Tree/assets\n"
     ]
    },
    {
     "name": "stderr",
     "output_type": "stream",
     "text": [
      "INFO:tensorflow:Assets written to: Saved Models/Decision-Tree/assets\n"
     ]
    }
   ],
   "source": [
    "# Export the model to a TensorFlow SavedModel\n",
    "model.save(\"Saved Models/Decision-Tree\")"
   ]
  }
 ],
 "metadata": {
  "kernelspec": {
   "display_name": "Python 3 (ipykernel)",
   "language": "python",
   "name": "python3"
  },
  "language_info": {
   "codemirror_mode": {
    "name": "ipython",
    "version": 3
   },
   "file_extension": ".py",
   "mimetype": "text/x-python",
   "name": "python",
   "nbconvert_exporter": "python",
   "pygments_lexer": "ipython3",
   "version": "3.8.11"
  }
 },
 "nbformat": 4,
 "nbformat_minor": 5
}
