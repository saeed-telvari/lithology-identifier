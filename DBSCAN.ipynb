{
 "cells": [
  {
   "cell_type": "code",
   "execution_count": 1,
   "id": "d43b4c47-85f5-4f5c-a5ee-96729bd0d896",
   "metadata": {},
   "outputs": [],
   "source": [
    "import pandas as pd\n",
    "import numpy as np\n",
    "from sklearn.cluster import DBSCAN\n",
    "from sklearn import metrics\n",
    "import matplotlib.pyplot as plt\n"
   ]
  },
  {
   "cell_type": "code",
   "execution_count": 2,
   "id": "22dc83d5-13b8-49d1-a60d-9f7bbc819c6a",
   "metadata": {},
   "outputs": [],
   "source": [
    "# Importing training dataset\n",
    "train_dataset = pd.read_excel(\"Data//log.xlsx\")\n",
    "x_train = np.array(train_dataset[['GR','SP','Rt','Rxo','DEN','SONIC','CNL','DIP']])\n",
    "y_train = np.array(train_dataset[['MUDLOG']])\n",
    "y_train = y_train.reshape(len(y_train))"
   ]
  },
  {
   "cell_type": "code",
   "execution_count": 3,
   "id": "b083f506-9ab0-44be-a19c-e8247dd5fa1a",
   "metadata": {},
   "outputs": [],
   "source": [
    "# Training the model\n",
    "clustering = DBSCAN(eps=15, min_samples=200).fit(x_train, y_train)"
   ]
  },
  {
   "cell_type": "code",
   "execution_count": 4,
   "id": "9e100fff-68d8-421f-9a57-01079daebf04",
   "metadata": {},
   "outputs": [
    {
     "name": "stdout",
     "output_type": "stream",
     "text": [
      "Clusters: (-1, 0)\n"
     ]
    }
   ],
   "source": [
    "print(f'Clusters: {np.unique(clustering.labels_)[0], np.unique(clustering.labels_)[1]}')"
   ]
  },
  {
   "cell_type": "code",
   "execution_count": 5,
   "id": "ec32cea1-4da2-4636-aeb6-32da7adc4ffc",
   "metadata": {},
   "outputs": [
    {
     "data": {
      "text/plain": [
       "{'algorithm': 'auto',\n",
       " 'eps': 15,\n",
       " 'leaf_size': 30,\n",
       " 'metric': 'euclidean',\n",
       " 'metric_params': None,\n",
       " 'min_samples': 200,\n",
       " 'n_jobs': None,\n",
       " 'p': None}"
      ]
     },
     "execution_count": 5,
     "metadata": {},
     "output_type": "execute_result"
    }
   ],
   "source": [
    "# model information\n",
    "clustering.get_params()"
   ]
  },
  {
   "cell_type": "code",
   "execution_count": 6,
   "id": "e1e075e7-b692-4800-b6da-5c59bdeb0f53",
   "metadata": {},
   "outputs": [],
   "source": [
    "y_pred = np.array(clustering.labels_)\n",
    "\n",
    "# Just renaming cluster labels into 0 and 1\n",
    "for i in range(len(y_pred)):\n",
    "    if y_pred[i] == 0:\n",
    "        y_pred[i] = 1\n",
    "    if y_pred[i] == -1:\n",
    "        y_pred[i] = 0"
   ]
  },
  {
   "cell_type": "code",
   "execution_count": 7,
   "id": "2ac44ec1-515d-4f9b-99c7-c84e3e20c7a0",
   "metadata": {},
   "outputs": [
    {
     "name": "stdout",
     "output_type": "stream",
     "text": [
      "Accuracy of the model is : 100.0%\n"
     ]
    }
   ],
   "source": [
    "# Accuracy :\n",
    "accuracy = metrics.accuracy_score(y_train, y_pred, normalize=True, sample_weight=None)\n",
    "print(f'Accuracy of the model is : {accuracy*100}%')"
   ]
  },
  {
   "cell_type": "code",
   "execution_count": 8,
   "id": "29a1ba8b-06f4-4828-b030-a9c2ca522cb8",
   "metadata": {},
   "outputs": [
    {
     "data": {
      "text/plain": [
       "Text(0.5, 1.0, 'Predicted')"
      ]
     },
     "execution_count": 8,
     "metadata": {},
     "output_type": "execute_result"
    },
    {
     "data": {
      "image/png": "[encoded data removed]",
      "text/plain": [
       "<Figure size 864x864 with 2 Axes>"
      ]
     },
     "metadata": {
      "needs_background": "light"
     },
     "output_type": "display_data"
    }
   ],
   "source": [
    "# Visualization\n",
    "x = [i for i in range(len(y_train))]\n",
    "fig, axs = plt.subplots(2, figsize=(12,12))\n",
    "axs[0].scatter(y_train, x, color='red')\n",
    "axs[0].set_title('Labels')\n",
    "axs[1].scatter(y_pred, x, color='cyan')\n",
    "axs[1].set_title('Predicted')\n"
   ]
  }
 ],
 "metadata": {
  "kernelspec": {
   "display_name": "Python 3 (ipykernel)",
   "language": "python",
   "name": "python3"
  },
  "language_info": {
   "codemirror_mode": {
    "name": "ipython",
    "version": 3
   },
   "file_extension": ".py",
   "mimetype": "text/x-python",
   "name": "python",
   "nbconvert_exporter": "python",
   "pygments_lexer": "ipython3",
   "version": "3.8.11"
  }
 },
 "nbformat": 4,
 "nbformat_minor": 5
}
