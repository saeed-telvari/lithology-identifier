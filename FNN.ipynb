{
 "cells": [
  {
   "cell_type": "code",
   "execution_count": 2,
   "id": "12bffa17",
   "metadata": {},
   "outputs": [],
   "source": [
    "import pandas as pd\n",
    "import torch\n",
    "import torch.nn as nn\n",
    "import numpy as np"
   ]
  },
  {
   "cell_type": "code",
   "execution_count": 3,
   "id": "766148ec",
   "metadata": {},
   "outputs": [],
   "source": [
    "# Importing dataset\n",
    "dataset = pd.read_excel(\"Data//log.xlsx\")"
   ]
  },
  {
   "cell_type": "code",
   "execution_count": 4,
   "id": "132d31f3",
   "metadata": {},
   "outputs": [
    {
     "name": "stdout",
     "output_type": "stream",
     "text": [
      "       DEPTH    GR    SP   Rt  Rxo  DEN  SONIC   CNL   DIP   AZIM  MUDLOG\n",
      "0     5195.0  91.4 -22.7  2.2  4.3  2.0  103.8  36.2  10.1  300.5       1\n",
      "1     5195.5  96.1 -25.0  3.4  6.9  2.0  104.3  36.7  10.5  297.1       1\n",
      "2     5196.0  95.0 -25.0  2.7  5.4  2.0  101.5  38.8   8.1  303.4       1\n",
      "3     5196.5  95.2 -23.1  2.9  5.5  2.0  103.8  36.6   7.8  296.2       1\n",
      "4     5197.0  92.8 -26.2  2.7  5.7  2.1  109.5  36.8   7.5  299.2       1\n",
      "...      ...   ...   ...  ...  ...  ...    ...   ...   ...    ...     ...\n",
      "1504  5947.0  32.5 -22.9  4.1  7.7  2.4   77.5  12.5   4.7  285.8       0\n",
      "1505  5947.5  31.3 -20.8  4.0  7.3  2.5   85.3  11.8   4.2  291.9       0\n",
      "1506  5948.0  32.6 -22.3  4.2  7.8  2.3   78.0  11.6   5.8  298.0       0\n",
      "1507  5948.5  35.0 -21.3  4.0  7.5  2.5   78.8  12.4   5.4  295.5       0\n",
      "1508  5949.0  32.1 -23.5  3.9  7.5  2.4   84.2  11.7   7.0  294.8       0\n",
      "\n",
      "[1509 rows x 11 columns]\n"
     ]
    }
   ],
   "source": [
    "# Display dataset\n",
    "print(dataset)\n",
    "# 1509 data point, 11 columns (10 logs + depth)"
   ]
  },
  {
   "cell_type": "code",
   "execution_count": 5,
   "id": "5649fb09",
   "metadata": {},
   "outputs": [
    {
     "data": {
      "text/plain": [
       "<torch._C.Generator at 0x7f70a9b0dad0>"
      ]
     },
     "execution_count": 5,
     "metadata": {},
     "output_type": "execute_result"
    }
   ],
   "source": [
    "cols = ['GR','SP','Rt','Rxo','DEN','SONIC','CNL','DIP']\n",
    "# input data\n",
    "input_dataset = dataset[cols]\n",
    "# 1000 data inputs for taining\n",
    "train_dataset = np.array(input_dataset[0:1000], dtype = np.float32)\n",
    "# 509 data inputs for testing the model\n",
    "test_dataset = np.array(input_dataset[1000:], dtype = np.float32)\n",
    "\n",
    "# output data\n",
    "labels = dataset['MUDLOG']\n",
    "# output data for training\n",
    "train_labels = torch.from_numpy(np.array(labels[0:1000], dtype = np.float32))\n",
    "# output data for testing\n",
    "test_labels = torch.from_numpy(np.array(labels[1000:], dtype = np.float32))\n",
    "\n",
    "# To solve the randomness issue\n",
    "seed = 4\n",
    "torch.manual_seed(seed)"
   ]
  },
  {
   "cell_type": "code",
   "execution_count": 6,
   "id": "d35769ea",
   "metadata": {},
   "outputs": [],
   "source": [
    "# Create model object\n",
    "class FNNmodel(nn.Module):\n",
    "    def __init__(self, input_size, hidden_size, num_classes):\n",
    "        super(FNNmodel, self).__init__()\n",
    "        # Linear -> NonLinear -> Linear\n",
    "        ''' First Layer      dimensions: 8 -> 7 '''\n",
    "        #linear function - FC1\n",
    "        self.fc1 = nn.Linear(input_dim, hidden_dim)\n",
    "        #nonlinear function\n",
    "        self.relu1 = nn.ReLU() \n",
    "        ''' Readout Layer    dimensions: 7 -> 1 '''\n",
    "        # linear function - FC2\n",
    "        self.fc2 = nn.Linear(hidden_dim, output_dim)\n",
    "        # Sigmoid func to convert resutls into 0 and 1\n",
    "        self.sig = nn.Sigmoid()\n",
    "    def forward(self, x):\n",
    "        out = self.fc1(x)\n",
    "        out = self.relu1(out)\n",
    "        out = self.sig(self.fc2(out))\n",
    "        return out"
   ]
  },
  {
   "cell_type": "code",
   "execution_count": 7,
   "id": "0c72857a",
   "metadata": {},
   "outputs": [],
   "source": [
    "# Determine input, output dimensions \n",
    "# and number of hidden layers\n",
    "input_dim = 1*8\n",
    "hidden_dim = 7\n",
    "output_dim = 1\n",
    "# Initiate model class\n",
    "model = FNNmodel(input_dim, hidden_dim, output_dim)"
   ]
  },
  {
   "cell_type": "code",
   "execution_count": 8,
   "id": "53a3c03e",
   "metadata": {},
   "outputs": [
    {
     "name": "stdout",
     "output_type": "stream",
     "text": [
      "<generator object Module.parameters at 0x7f6fda2cb430>\n",
      "4\n",
      "torch.Size([7, 8])\n",
      "torch.Size([7])\n",
      "torch.Size([1, 7])\n",
      "torch.Size([1])\n"
     ]
    }
   ],
   "source": [
    "# Display dimensions of the model parameters\n",
    "\n",
    "print(model.parameters())\n",
    "\n",
    "print(len(list(model.parameters())))\n",
    "\n",
    "# Hidden layer parameters\n",
    "print(list(model.parameters())[0].size())\n",
    "\n",
    "# FC1 Bias parameters\n",
    "print(list(model.parameters())[1].size())\n",
    "\n",
    "# FC2 parameters\n",
    "print(list(model.parameters())[2].size())\n",
    "\n",
    "# FC2 Bias parameters\n",
    "print(list(model.parameters())[3].size())"
   ]
  },
  {
   "cell_type": "code",
   "execution_count": 14,
   "id": "03d5aaa9",
   "metadata": {},
   "outputs": [
    {
     "data": {
      "text/plain": [
       "FNNmodel(\n",
       "  (fc1): Linear(in_features=8, out_features=7, bias=True)\n",
       "  (relu1): ReLU()\n",
       "  (fc2): Linear(in_features=7, out_features=1, bias=True)\n",
       "  (sig): Sigmoid()\n",
       ")"
      ]
     },
     "execution_count": 14,
     "metadata": {},
     "output_type": "execute_result"
    }
   ],
   "source": [
    "# Evaluating the model/Shows layers and their activation function summary\n",
    "model.eval()"
   ]
  },
  {
   "cell_type": "code",
   "execution_count": 10,
   "id": "ee980bc4",
   "metadata": {},
   "outputs": [],
   "source": [
    "# loss function\n",
    "criterion = nn.BCELoss()"
   ]
  },
  {
   "cell_type": "code",
   "execution_count": 11,
   "id": "35a91452",
   "metadata": {},
   "outputs": [],
   "source": [
    "# learning rate and optimizer class\n",
    "learning_rate = 0.0001\n",
    "optimizer = torch.optim.SGD(model.parameters(), lr=learning_rate)"
   ]
  },
  {
   "cell_type": "code",
   "execution_count": 12,
   "id": "c8c78436",
   "metadata": {},
   "outputs": [
    {
     "name": "stdout",
     "output_type": "stream",
     "text": [
      "epoch = 400, loss = 0.22564241290092468, accuracy = 94.30255126953125\n",
      "epoch = 800, loss = 0.21018216013908386, accuracy = 94.49901580810547\n",
      "epoch = 1200, loss = 0.19729095697402954, accuracy = 94.49901580810547\n",
      "epoch = 1600, loss = 0.18596310913562775, accuracy = 94.49901580810547\n",
      "epoch = 2000, loss = 0.17580272257328033, accuracy = 94.49901580810547\n",
      "epoch = 2400, loss = 0.16665557026863098, accuracy = 94.49901580810547\n",
      "epoch = 2800, loss = 0.15832555294036865, accuracy = 94.69548034667969\n",
      "epoch = 3200, loss = 0.1506505012512207, accuracy = 94.69548034667969\n",
      "epoch = 3600, loss = 0.1435127556324005, accuracy = 95.48133850097656\n",
      "epoch = 4000, loss = 0.13682463765144348, accuracy = 95.67780303955078\n"
     ]
    }
   ],
   "source": [
    "# num of epochs\n",
    "epochs = 4000\n",
    "\n",
    "# Training and testing the model\n",
    "for epoch in range(epochs):\n",
    "    epoch += 1\n",
    "    inputs = torch.from_numpy(train_dataset)\n",
    "    labels = train_labels.view(-1, 1)\n",
    "    labels = labels.type(torch.float32)\n",
    "    # Reset gradients to zero\n",
    "    optimizer.zero_grad()\n",
    "    # Applying funtions (model)\n",
    "    outputs = model(inputs)\n",
    "    # Calculate loss\n",
    "    loss = criterion(outputs, labels)\n",
    "    # Calculate gradients\n",
    "    loss.backward()\n",
    "    # Update Parameters\n",
    "    optimizer.step()\n",
    "    \n",
    "    # Calculate Accuracy\n",
    "    if epoch%400 == 0:\n",
    "        inputs = torch.from_numpy(test_dataset)\n",
    "        labels = test_labels.view(-1, 1)\n",
    "        labels = labels.type(torch.float32)\n",
    "        correct = 0\n",
    "        total = 0\n",
    "        for _ in range(400):\n",
    "            outputs = model(torch.from_numpy(test_dataset)).data\n",
    "            predicted = np.round(outputs.data)\n",
    "            total += labels.size(0)\n",
    "\n",
    "            correct += (predicted == labels).sum()\n",
    "        accuracy = 100*correct/total\n",
    "        # Display loss and accuray\n",
    "        print('epoch = {}, loss = {}, accuracy = {}'.format(epoch, loss.data, accuracy))"
   ]
  },
  {
   "cell_type": "code",
   "execution_count": 13,
   "id": "9d05342a",
   "metadata": {},
   "outputs": [],
   "source": [
    "torch.save(model.state_dict(), \"Saved Models/FNN\")"
   ]
  },
  {
   "cell_type": "code",
   "execution_count": null,
   "id": "3072448f",
   "metadata": {},
   "outputs": [],
   "source": []
  }
 ],
 "metadata": {
  "kernelspec": {
   "display_name": "Python 3 (ipykernel)",
   "language": "python",
   "name": "python3"
  },
  "language_info": {
   "codemirror_mode": {
    "name": "ipython",
    "version": 3
   },
   "file_extension": ".py",
   "mimetype": "text/x-python",
   "name": "python",
   "nbconvert_exporter": "python",
   "pygments_lexer": "ipython3",
   "version": "3.8.11"
  }
 },
 "nbformat": 4,
 "nbformat_minor": 5
}
