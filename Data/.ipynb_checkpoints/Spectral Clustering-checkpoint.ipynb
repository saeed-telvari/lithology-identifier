{
 "cells": [
  {
   "cell_type": "code",
   "execution_count": 24,
   "id": "d43b4c47-85f5-4f5c-a5ee-96729bd0d896",
   "metadata": {},
   "outputs": [],
   "source": [
    "import pandas as pd\n",
    "import numpy as np\n",
    "from sklearn.cluster import DBSCAN\n",
    "from sklearn import metrics"
   ]
  },
  {
   "cell_type": "code",
   "execution_count": 45,
   "id": "22dc83d5-13b8-49d1-a60d-9f7bbc819c6a",
   "metadata": {},
   "outputs": [],
   "source": [
    "# Importing training dataset\n",
    "train_dataset = pd.read_excel(\"Data//log.xlsx\")\n",
    "x_train = np.array(train_dataset[['GR','SP','Rt','Rxo','DEN','SONIC','CNL','DIP']])\n",
    "y_train = np.array(train_dataset[['MUDLOG']])\n",
    "y_train = y_train.reshape(len(y_train))"
   ]
  },
  {
   "cell_type": "code",
   "execution_count": 66,
   "id": "ae8ef9b1-64e8-4c52-9138-9fff11e075d9",
   "metadata": {},
   "outputs": [
    {
     "data": {
      "text/plain": [
       "(1509, 8)"
      ]
     },
     "execution_count": 66,
     "metadata": {},
     "output_type": "execute_result"
    }
   ],
   "source": [
    "x_train.shape"
   ]
  },
  {
   "cell_type": "code",
   "execution_count": 99,
   "id": "b083f506-9ab0-44be-a19c-e8247dd5fa1a",
   "metadata": {},
   "outputs": [],
   "source": [
    "clustering = DBSCAN(eps=1.55\n",
    "                   ).fit(x_train, y_train)"
   ]
  },
  {
   "cell_type": "code",
   "execution_count": 100,
   "id": "e1e075e7-b692-4800-b6da-5c59bdeb0f53",
   "metadata": {},
   "outputs": [],
   "source": [
    "y_pred = np.array(clustering.labels_)"
   ]
  },
  {
   "cell_type": "code",
   "execution_count": 101,
   "id": "4d7cf372-2f91-4376-bcfc-189483d82fdd",
   "metadata": {},
   "outputs": [
    {
     "data": {
      "text/plain": [
       "array([-1,  0,  1])"
      ]
     },
     "execution_count": 101,
     "metadata": {},
     "output_type": "execute_result"
    }
   ],
   "source": [
    "np.unique(y_pred)"
   ]
  },
  {
   "cell_type": "code",
   "execution_count": 73,
   "id": "2ac44ec1-515d-4f9b-99c7-c84e3e20c7a0",
   "metadata": {},
   "outputs": [
    {
     "name": "stdout",
     "output_type": "stream",
     "text": [
      "Accuracy of the model is : 0.0%\n"
     ]
    }
   ],
   "source": [
    "# Accuracy :\n",
    "accuracy = metrics.accuracy_score(y_train, y_pred, normalize=True, sample_weight=None)\n",
    "print(f'Accuracy of the model is : {accuracy*100}%')"
   ]
  },
  {
   "cell_type": "code",
   "execution_count": null,
   "id": "29a1ba8b-06f4-4828-b030-a9c2ca522cb8",
   "metadata": {},
   "outputs": [],
   "source": []
  },
  {
   "cell_type": "code",
   "execution_count": null,
   "id": "adaf42d7-4462-4330-b042-0ffe1023dc59",
   "metadata": {},
   "outputs": [],
   "source": []
  }
 ],
 "metadata": {
  "kernelspec": {
   "display_name": "Python 3 (ipykernel)",
   "language": "python",
   "name": "python3"
  },
  "language_info": {
   "codemirror_mode": {
    "name": "ipython",
    "version": 3
   },
   "file_extension": ".py",
   "mimetype": "text/x-python",
   "name": "python",
   "nbconvert_exporter": "python",
   "pygments_lexer": "ipython3",
   "version": "3.8.11"
  }
 },
 "nbformat": 4,
 "nbformat_minor": 5
}
