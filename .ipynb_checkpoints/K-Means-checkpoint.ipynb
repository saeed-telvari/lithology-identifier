{
 "cells": [
  {
   "cell_type": "code",
   "execution_count": 28,
   "id": "5edcf0a8-d1c0-46eb-8d30-28f145b9181b",
   "metadata": {},
   "outputs": [],
   "source": [
    "from sklearn.cluster import KMeans\n",
    "import pandas as pd\n",
    "import numpy as np\n",
    "import matplotlib.pyplot as plt"
   ]
  },
  {
   "cell_type": "code",
   "execution_count": 29,
   "id": "3bddeed0-cae3-473a-aff8-94103f2395dc",
   "metadata": {},
   "outputs": [],
   "source": [
    "# Importing training dataset and converting it into an numpy array\n",
    "train_dataset = pd.read_excel(\"Data//log.xlsx\", usecols = ['GR','SP','Rt','Rxo','DEN','SONIC','CNL','DIP'])\n",
    "train_dataset = np.array(train_dataset)"
   ]
  },
  {
   "cell_type": "code",
   "execution_count": 30,
   "id": "9ed498d6-e31f-49e1-b272-d3f9552310b7",
   "metadata": {},
   "outputs": [],
   "source": [
    "# Importing labels and converting them into an numpy array\n",
    "labels = pd.read_excel(\"Data//log.xlsx\",usecols = ['MUDLOG'])\n",
    "labels = np.array(labels)"
   ]
  },
  {
   "cell_type": "code",
   "execution_count": 31,
   "id": "8cefa74e-a727-466f-9d99-96bbaa92350a",
   "metadata": {},
   "outputs": [],
   "source": [
    "# Train the model\n",
    "kmeans = KMeans(n_clusters=2, random_state=3).fit(train_dataset)"
   ]
  },
  {
   "cell_type": "code",
   "execution_count": 32,
   "id": "8005c73e-a6d7-49ac-9aa9-0b13ff00e12a",
   "metadata": {},
   "outputs": [
    {
     "name": "stdout",
     "output_type": "stream",
     "text": [
      "Accuracy : 22.730284956925114\n"
     ]
    }
   ],
   "source": [
    "# Calculate Accuracy\n",
    "correct = 0\n",
    "total = len(kmeans.labels_)\n",
    "for i in range(1000):\n",
    "    if kmeans.labels_[i] == labels[i]:\n",
    "        correct += 1\n",
    "print(f'Accuracy : {correct/total*100}')\n"
   ]
  },
  {
   "cell_type": "code",
   "execution_count": 38,
   "id": "c568c711-8091-404d-a77a-883bf5e69070",
   "metadata": {},
   "outputs": [
    {
     "data": {
      "text/plain": [
       "Text(0.5, 1.0, 'Labels')"
      ]
     },
     "execution_count": 38,
     "metadata": {},
     "output_type": "execute_result"
    },
    {
     "data": {
      "image/png": "[encoded data removed]",
      "text/plain": [
       "<Figure size 576x576 with 2 Axes>"
      ]
     },
     "metadata": {
      "needs_background": "light"
     },
     "output_type": "display_data"
    },
    {
     "data": {
      "text/plain": [
       "<Figure size 1440x1440 with 0 Axes>"
      ]
     },
     "metadata": {},
     "output_type": "display_data"
    }
   ],
   "source": [
    "x = [i for i in range(1509)]\n",
    "fig, axs = plt.subplots(2)\n",
    "plt.figure(dpi=180)\n",
    "plt.rcParams[\"figure.figsize\"] = (20,8)\n",
    "axs[0].scatter(x, kmeans.labels_, color = 'green', marker = 's')\n",
    "axs[0].set_title('Predicted')\n",
    "axs[1].scatter(x, labels, color = 'red', marker = 's')\n",
    "axs[1].set_title('Labels')"
   ]
  },
  {
   "cell_type": "markdown",
   "id": "5c742b33-6a4b-47ce-91bb-223ef5c591d5",
   "metadata": {},
   "source": [
    "#### Conclusion!"
   ]
  },
  {
   "cell_type": "markdown",
   "id": "53a39031-7317-44cf-bd40-d560e7517d5c",
   "metadata": {},
   "source": [
    "The results are really bad!\n",
    "- K-Means is not siutable for groups/clusters with non-convex shapes"
   ]
  }
 ],
 "metadata": {
  "kernelspec": {
   "display_name": "Python 3 (ipykernel)",
   "language": "python",
   "name": "python3"
  },
  "language_info": {
   "codemirror_mode": {
    "name": "ipython",
    "version": 3
   },
   "file_extension": ".py",
   "mimetype": "text/x-python",
   "name": "python",
   "nbconvert_exporter": "python",
   "pygments_lexer": "ipython3",
   "version": "3.8.11"
  }
 },
 "nbformat": 4,
 "nbformat_minor": 5
}
